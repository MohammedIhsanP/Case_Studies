{
 "cells": [
  {
   "cell_type": "markdown",
   "id": "417a31af",
   "metadata": {},
   "source": [
    "# Case Study on Testing of Hypothesis\n",
    "A company started to invest in digital marketing as a new way of their product\n",
    "promotions.For that they collected data and decided to carry out a study on it.\n",
    "\n",
    "● The company wishes to clarify whether there is any increase in sales after\n",
    "stepping into digital marketing.\n",
    "\n",
    "● The company needs to check whether there is any dependency between the\n",
    "features “Region” and “Manager”.\n",
    "\n",
    "Help the company to carry out their study with the help of data provided."
   ]
  },
  {
   "cell_type": "code",
   "execution_count": 22,
   "id": "1f139cd6",
   "metadata": {},
   "outputs": [],
   "source": [
    "#import libraries\n",
    "import numpy as np\n",
    "import pandas as pd\n",
    "import matplotlib.pyplot as plt\n",
    "import seaborn as sns\n",
    "\n",
    "%matplotlib inline\n",
    "\n",
    "import warnings\n",
    "warnings.filterwarnings(\"ignore\")\n",
    "\n",
    "import scipy.stats as stat"
   ]
  },
  {
   "cell_type": "code",
   "execution_count": 2,
   "id": "2e2f8181",
   "metadata": {},
   "outputs": [],
   "source": [
    "data = pd.read_csv('Sales_add.csv')"
   ]
  },
  {
   "cell_type": "code",
   "execution_count": 10,
   "id": "cecdbe5d",
   "metadata": {},
   "outputs": [
    {
     "data": {
      "text/html": [
       "<div>\n",
       "<style scoped>\n",
       "    .dataframe tbody tr th:only-of-type {\n",
       "        vertical-align: middle;\n",
       "    }\n",
       "\n",
       "    .dataframe tbody tr th {\n",
       "        vertical-align: top;\n",
       "    }\n",
       "\n",
       "    .dataframe thead th {\n",
       "        text-align: right;\n",
       "    }\n",
       "</style>\n",
       "<table border=\"1\" class=\"dataframe\">\n",
       "  <thead>\n",
       "    <tr style=\"text-align: right;\">\n",
       "      <th></th>\n",
       "      <th>Month</th>\n",
       "      <th>Region</th>\n",
       "      <th>Manager</th>\n",
       "      <th>Sales_before_digital_add(in $)</th>\n",
       "      <th>Sales_After_digital_add(in $)</th>\n",
       "    </tr>\n",
       "  </thead>\n",
       "  <tbody>\n",
       "    <tr>\n",
       "      <th>0</th>\n",
       "      <td>Month-1</td>\n",
       "      <td>Region - A</td>\n",
       "      <td>Manager - A</td>\n",
       "      <td>132921</td>\n",
       "      <td>270390</td>\n",
       "    </tr>\n",
       "    <tr>\n",
       "      <th>1</th>\n",
       "      <td>Month-2</td>\n",
       "      <td>Region - A</td>\n",
       "      <td>Manager - C</td>\n",
       "      <td>149559</td>\n",
       "      <td>223334</td>\n",
       "    </tr>\n",
       "    <tr>\n",
       "      <th>2</th>\n",
       "      <td>Month-3</td>\n",
       "      <td>Region - B</td>\n",
       "      <td>Manager - A</td>\n",
       "      <td>146278</td>\n",
       "      <td>244243</td>\n",
       "    </tr>\n",
       "    <tr>\n",
       "      <th>3</th>\n",
       "      <td>Month-4</td>\n",
       "      <td>Region - B</td>\n",
       "      <td>Manager - B</td>\n",
       "      <td>152167</td>\n",
       "      <td>231808</td>\n",
       "    </tr>\n",
       "    <tr>\n",
       "      <th>4</th>\n",
       "      <td>Month-5</td>\n",
       "      <td>Region - C</td>\n",
       "      <td>Manager - B</td>\n",
       "      <td>159525</td>\n",
       "      <td>258402</td>\n",
       "    </tr>\n",
       "  </tbody>\n",
       "</table>\n",
       "</div>"
      ],
      "text/plain": [
       "     Month      Region      Manager  Sales_before_digital_add(in $)  \\\n",
       "0  Month-1  Region - A  Manager - A                          132921   \n",
       "1  Month-2  Region - A  Manager - C                          149559   \n",
       "2  Month-3  Region - B  Manager - A                          146278   \n",
       "3  Month-4  Region - B  Manager - B                          152167   \n",
       "4  Month-5  Region - C  Manager - B                          159525   \n",
       "\n",
       "   Sales_After_digital_add(in $)  \n",
       "0                         270390  \n",
       "1                         223334  \n",
       "2                         244243  \n",
       "3                         231808  \n",
       "4                         258402  "
      ]
     },
     "execution_count": 10,
     "metadata": {},
     "output_type": "execute_result"
    }
   ],
   "source": [
    "#descriptive analytics on the data set\n",
    "data.head()"
   ]
  },
  {
   "cell_type": "code",
   "execution_count": 4,
   "id": "9416ef31",
   "metadata": {},
   "outputs": [
    {
     "data": {
      "text/html": [
       "<div>\n",
       "<style scoped>\n",
       "    .dataframe tbody tr th:only-of-type {\n",
       "        vertical-align: middle;\n",
       "    }\n",
       "\n",
       "    .dataframe tbody tr th {\n",
       "        vertical-align: top;\n",
       "    }\n",
       "\n",
       "    .dataframe thead th {\n",
       "        text-align: right;\n",
       "    }\n",
       "</style>\n",
       "<table border=\"1\" class=\"dataframe\">\n",
       "  <thead>\n",
       "    <tr style=\"text-align: right;\">\n",
       "      <th></th>\n",
       "      <th>Month</th>\n",
       "      <th>Region</th>\n",
       "      <th>Manager</th>\n",
       "      <th>Sales_before_digital_add(in $)</th>\n",
       "      <th>Sales_After_digital_add(in $)</th>\n",
       "    </tr>\n",
       "  </thead>\n",
       "  <tbody>\n",
       "    <tr>\n",
       "      <th>17</th>\n",
       "      <td>Month-18</td>\n",
       "      <td>Region - C</td>\n",
       "      <td>Manager - B</td>\n",
       "      <td>167996</td>\n",
       "      <td>191517</td>\n",
       "    </tr>\n",
       "    <tr>\n",
       "      <th>18</th>\n",
       "      <td>Month-19</td>\n",
       "      <td>Region - B</td>\n",
       "      <td>Manager - A</td>\n",
       "      <td>132135</td>\n",
       "      <td>227040</td>\n",
       "    </tr>\n",
       "    <tr>\n",
       "      <th>19</th>\n",
       "      <td>Month-20</td>\n",
       "      <td>Region - A</td>\n",
       "      <td>Manager - B</td>\n",
       "      <td>152493</td>\n",
       "      <td>212579</td>\n",
       "    </tr>\n",
       "    <tr>\n",
       "      <th>20</th>\n",
       "      <td>Month-21</td>\n",
       "      <td>Region - B</td>\n",
       "      <td>Manager - A</td>\n",
       "      <td>147425</td>\n",
       "      <td>263388</td>\n",
       "    </tr>\n",
       "    <tr>\n",
       "      <th>21</th>\n",
       "      <td>Month-22</td>\n",
       "      <td>Region - A</td>\n",
       "      <td>Manager - C</td>\n",
       "      <td>130263</td>\n",
       "      <td>243020</td>\n",
       "    </tr>\n",
       "  </tbody>\n",
       "</table>\n",
       "</div>"
      ],
      "text/plain": [
       "       Month      Region      Manager  Sales_before_digital_add(in $)  \\\n",
       "17  Month-18  Region - C  Manager - B                          167996   \n",
       "18  Month-19  Region - B  Manager - A                          132135   \n",
       "19  Month-20  Region - A  Manager - B                          152493   \n",
       "20  Month-21  Region - B  Manager - A                          147425   \n",
       "21  Month-22  Region - A  Manager - C                          130263   \n",
       "\n",
       "    Sales_After_digital_add(in $)  \n",
       "17                         191517  \n",
       "18                         227040  \n",
       "19                         212579  \n",
       "20                         263388  \n",
       "21                         243020  "
      ]
     },
     "execution_count": 4,
     "metadata": {},
     "output_type": "execute_result"
    }
   ],
   "source": [
    "data.tail()"
   ]
  },
  {
   "cell_type": "code",
   "execution_count": 12,
   "id": "6e45d899",
   "metadata": {},
   "outputs": [
    {
     "data": {
      "text/plain": [
       "(22, 5)"
      ]
     },
     "execution_count": 12,
     "metadata": {},
     "output_type": "execute_result"
    }
   ],
   "source": [
    "data.shape"
   ]
  },
  {
   "cell_type": "code",
   "execution_count": 5,
   "id": "ef7361ce",
   "metadata": {},
   "outputs": [
    {
     "name": "stdout",
     "output_type": "stream",
     "text": [
      "<class 'pandas.core.frame.DataFrame'>\n",
      "RangeIndex: 22 entries, 0 to 21\n",
      "Data columns (total 5 columns):\n",
      " #   Column                          Non-Null Count  Dtype \n",
      "---  ------                          --------------  ----- \n",
      " 0   Month                           22 non-null     object\n",
      " 1   Region                          22 non-null     object\n",
      " 2   Manager                         22 non-null     object\n",
      " 3   Sales_before_digital_add(in $)  22 non-null     int64 \n",
      " 4   Sales_After_digital_add(in $)   22 non-null     int64 \n",
      "dtypes: int64(2), object(3)\n",
      "memory usage: 1008.0+ bytes\n"
     ]
    }
   ],
   "source": [
    "data.info()"
   ]
  },
  {
   "cell_type": "code",
   "execution_count": 6,
   "id": "9dfd3841",
   "metadata": {},
   "outputs": [
    {
     "data": {
      "text/plain": [
       "Month                             0\n",
       "Region                            0\n",
       "Manager                           0\n",
       "Sales_before_digital_add(in $)    0\n",
       "Sales_After_digital_add(in $)     0\n",
       "dtype: int64"
      ]
     },
     "execution_count": 6,
     "metadata": {},
     "output_type": "execute_result"
    }
   ],
   "source": [
    "data.isnull().sum()"
   ]
  },
  {
   "cell_type": "code",
   "execution_count": 9,
   "id": "84bd932f",
   "metadata": {},
   "outputs": [
    {
     "data": {
      "text/html": [
       "<div>\n",
       "<style scoped>\n",
       "    .dataframe tbody tr th:only-of-type {\n",
       "        vertical-align: middle;\n",
       "    }\n",
       "\n",
       "    .dataframe tbody tr th {\n",
       "        vertical-align: top;\n",
       "    }\n",
       "\n",
       "    .dataframe thead th {\n",
       "        text-align: right;\n",
       "    }\n",
       "</style>\n",
       "<table border=\"1\" class=\"dataframe\">\n",
       "  <thead>\n",
       "    <tr style=\"text-align: right;\">\n",
       "      <th></th>\n",
       "      <th>Month</th>\n",
       "      <th>Region</th>\n",
       "      <th>Manager</th>\n",
       "      <th>Sales_before_digital_add(in $)</th>\n",
       "      <th>Sales_After_digital_add(in $)</th>\n",
       "    </tr>\n",
       "  </thead>\n",
       "  <tbody>\n",
       "    <tr>\n",
       "      <th>count</th>\n",
       "      <td>22</td>\n",
       "      <td>22</td>\n",
       "      <td>22</td>\n",
       "      <td>22.000000</td>\n",
       "      <td>22.000000</td>\n",
       "    </tr>\n",
       "    <tr>\n",
       "      <th>unique</th>\n",
       "      <td>22</td>\n",
       "      <td>3</td>\n",
       "      <td>3</td>\n",
       "      <td>NaN</td>\n",
       "      <td>NaN</td>\n",
       "    </tr>\n",
       "    <tr>\n",
       "      <th>top</th>\n",
       "      <td>Month-1</td>\n",
       "      <td>Region - A</td>\n",
       "      <td>Manager - A</td>\n",
       "      <td>NaN</td>\n",
       "      <td>NaN</td>\n",
       "    </tr>\n",
       "    <tr>\n",
       "      <th>freq</th>\n",
       "      <td>1</td>\n",
       "      <td>10</td>\n",
       "      <td>9</td>\n",
       "      <td>NaN</td>\n",
       "      <td>NaN</td>\n",
       "    </tr>\n",
       "    <tr>\n",
       "      <th>mean</th>\n",
       "      <td>NaN</td>\n",
       "      <td>NaN</td>\n",
       "      <td>NaN</td>\n",
       "      <td>149239.954545</td>\n",
       "      <td>231123.727273</td>\n",
       "    </tr>\n",
       "    <tr>\n",
       "      <th>std</th>\n",
       "      <td>NaN</td>\n",
       "      <td>NaN</td>\n",
       "      <td>NaN</td>\n",
       "      <td>14844.042921</td>\n",
       "      <td>25556.777061</td>\n",
       "    </tr>\n",
       "    <tr>\n",
       "      <th>min</th>\n",
       "      <td>NaN</td>\n",
       "      <td>NaN</td>\n",
       "      <td>NaN</td>\n",
       "      <td>130263.000000</td>\n",
       "      <td>187305.000000</td>\n",
       "    </tr>\n",
       "    <tr>\n",
       "      <th>25%</th>\n",
       "      <td>NaN</td>\n",
       "      <td>NaN</td>\n",
       "      <td>NaN</td>\n",
       "      <td>138087.750000</td>\n",
       "      <td>214960.750000</td>\n",
       "    </tr>\n",
       "    <tr>\n",
       "      <th>50%</th>\n",
       "      <td>NaN</td>\n",
       "      <td>NaN</td>\n",
       "      <td>NaN</td>\n",
       "      <td>147444.000000</td>\n",
       "      <td>229986.500000</td>\n",
       "    </tr>\n",
       "    <tr>\n",
       "      <th>75%</th>\n",
       "      <td>NaN</td>\n",
       "      <td>NaN</td>\n",
       "      <td>NaN</td>\n",
       "      <td>157627.500000</td>\n",
       "      <td>250909.000000</td>\n",
       "    </tr>\n",
       "    <tr>\n",
       "      <th>max</th>\n",
       "      <td>NaN</td>\n",
       "      <td>NaN</td>\n",
       "      <td>NaN</td>\n",
       "      <td>178939.000000</td>\n",
       "      <td>276279.000000</td>\n",
       "    </tr>\n",
       "  </tbody>\n",
       "</table>\n",
       "</div>"
      ],
      "text/plain": [
       "          Month      Region      Manager  Sales_before_digital_add(in $)  \\\n",
       "count        22          22           22                       22.000000   \n",
       "unique       22           3            3                             NaN   \n",
       "top     Month-1  Region - A  Manager - A                             NaN   \n",
       "freq          1          10            9                             NaN   \n",
       "mean        NaN         NaN          NaN                   149239.954545   \n",
       "std         NaN         NaN          NaN                    14844.042921   \n",
       "min         NaN         NaN          NaN                   130263.000000   \n",
       "25%         NaN         NaN          NaN                   138087.750000   \n",
       "50%         NaN         NaN          NaN                   147444.000000   \n",
       "75%         NaN         NaN          NaN                   157627.500000   \n",
       "max         NaN         NaN          NaN                   178939.000000   \n",
       "\n",
       "        Sales_After_digital_add(in $)  \n",
       "count                       22.000000  \n",
       "unique                            NaN  \n",
       "top                               NaN  \n",
       "freq                              NaN  \n",
       "mean                    231123.727273  \n",
       "std                      25556.777061  \n",
       "min                     187305.000000  \n",
       "25%                     214960.750000  \n",
       "50%                     229986.500000  \n",
       "75%                     250909.000000  \n",
       "max                     276279.000000  "
      ]
     },
     "execution_count": 9,
     "metadata": {},
     "output_type": "execute_result"
    }
   ],
   "source": [
    "data.describe(include='all')"
   ]
  },
  {
   "cell_type": "code",
   "execution_count": 13,
   "id": "4bd95100",
   "metadata": {},
   "outputs": [
    {
     "data": {
      "text/plain": [
       "Sales_before_digital_add(in $)    0.578033\n",
       "Sales_After_digital_add(in $)    -0.022669\n",
       "dtype: float64"
      ]
     },
     "execution_count": 13,
     "metadata": {},
     "output_type": "execute_result"
    }
   ],
   "source": [
    "data.skew()"
   ]
  },
  {
   "cell_type": "code",
   "execution_count": 17,
   "id": "5d859aea",
   "metadata": {},
   "outputs": [
    {
     "data": {
      "text/plain": [
       "{'whiskers': [<matplotlib.lines.Line2D at 0x13dd725f910>,\n",
       "  <matplotlib.lines.Line2D at 0x13dd725fca0>],\n",
       " 'caps': [<matplotlib.lines.Line2D at 0x13dd726b070>,\n",
       "  <matplotlib.lines.Line2D at 0x13dd726b400>],\n",
       " 'boxes': [<matplotlib.lines.Line2D at 0x13dd725f580>],\n",
       " 'medians': [<matplotlib.lines.Line2D at 0x13dd726b790>],\n",
       " 'fliers': [<matplotlib.lines.Line2D at 0x13dd726bb20>],\n",
       " 'means': []}"
      ]
     },
     "execution_count": 17,
     "metadata": {},
     "output_type": "execute_result"
    },
    {
     "data": {
      "image/png": "[encoded data removed]",
      "text/plain": [
       "<Figure size 432x288 with 1 Axes>"
      ]
     },
     "metadata": {
      "needs_background": "light"
     },
     "output_type": "display_data"
    }
   ],
   "source": [
    "plt.boxplot(data['Sales_before_digital_add(in $)'],vert=0)"
   ]
  },
  {
   "cell_type": "code",
   "execution_count": 18,
   "id": "ca24403b",
   "metadata": {},
   "outputs": [
    {
     "data": {
      "text/plain": [
       "{'whiskers': [<matplotlib.lines.Line2D at 0x13dd72cc850>,\n",
       "  <matplotlib.lines.Line2D at 0x13dd72ccc10>],\n",
       " 'caps': [<matplotlib.lines.Line2D at 0x13dd72ccfa0>,\n",
       "  <matplotlib.lines.Line2D at 0x13dd72d83a0>],\n",
       " 'boxes': [<matplotlib.lines.Line2D at 0x13dd72cc6d0>],\n",
       " 'medians': [<matplotlib.lines.Line2D at 0x13dd72d8730>],\n",
       " 'fliers': [<matplotlib.lines.Line2D at 0x13dd72d8ac0>],\n",
       " 'means': []}"
      ]
     },
     "execution_count": 18,
     "metadata": {},
     "output_type": "execute_result"
    },
    {
     "data": {
      "image/png": "[encoded data removed]",
      "text/plain": [
       "<Figure size 432x288 with 1 Axes>"
      ]
     },
     "metadata": {
      "needs_background": "light"
     },
     "output_type": "display_data"
    }
   ],
   "source": [
    "plt.boxplot(data['Sales_After_digital_add(in $)'],vert=0)"
   ]
  },
  {
   "cell_type": "code",
   "execution_count": 19,
   "id": "17d723f9",
   "metadata": {},
   "outputs": [
    {
     "data": {
      "text/html": [
       "<div>\n",
       "<style scoped>\n",
       "    .dataframe tbody tr th:only-of-type {\n",
       "        vertical-align: middle;\n",
       "    }\n",
       "\n",
       "    .dataframe tbody tr th {\n",
       "        vertical-align: top;\n",
       "    }\n",
       "\n",
       "    .dataframe thead th {\n",
       "        text-align: right;\n",
       "    }\n",
       "</style>\n",
       "<table border=\"1\" class=\"dataframe\">\n",
       "  <thead>\n",
       "    <tr style=\"text-align: right;\">\n",
       "      <th></th>\n",
       "      <th>Sales_before_digital_add(in $)</th>\n",
       "      <th>Sales_After_digital_add(in $)</th>\n",
       "    </tr>\n",
       "  </thead>\n",
       "  <tbody>\n",
       "    <tr>\n",
       "      <th>Sales_before_digital_add(in $)</th>\n",
       "      <td>1.000000</td>\n",
       "      <td>-0.178668</td>\n",
       "    </tr>\n",
       "    <tr>\n",
       "      <th>Sales_After_digital_add(in $)</th>\n",
       "      <td>-0.178668</td>\n",
       "      <td>1.000000</td>\n",
       "    </tr>\n",
       "  </tbody>\n",
       "</table>\n",
       "</div>"
      ],
      "text/plain": [
       "                                Sales_before_digital_add(in $)  \\\n",
       "Sales_before_digital_add(in $)                        1.000000   \n",
       "Sales_After_digital_add(in $)                        -0.178668   \n",
       "\n",
       "                                Sales_After_digital_add(in $)  \n",
       "Sales_before_digital_add(in $)                      -0.178668  \n",
       "Sales_After_digital_add(in $)                        1.000000  "
      ]
     },
     "execution_count": 19,
     "metadata": {},
     "output_type": "execute_result"
    }
   ],
   "source": [
    "data.corr()"
   ]
  },
  {
   "cell_type": "markdown",
   "id": "0e46b1b6",
   "metadata": {},
   "source": [
    "\n",
    "Insights :\n",
    "\n",
    "    1. Sales before digital add is positively skewed.\n",
    "    \n",
    "    2. Sales after digital add is slightly negatively skewed.\n",
    "    \n",
    "    3. Correlation between sales before digital add & sales after digital add is very low.\n",
    "    "
   ]
  },
  {
   "cell_type": "markdown",
   "id": "ef1c8940",
   "metadata": {},
   "source": [
    "# 1.The company wishes to clarify whether there is any increase in sales after stepping into digital marketing.\n"
   ]
  },
  {
   "cell_type": "markdown",
   "id": "b4f8482f",
   "metadata": {},
   "source": [
    "Let,\n",
    "\n",
    "Null hypothesis ($H_{0}$) :- There is no increase in sales after stepping into digital marketing.\n",
    "    \n",
    "Alternative hypothesis ($H_{a}$) :- There is an increase in sales after stepping into digital marketing.\n",
    "    \n",
    "set significance level, alpha as 0.05\n",
    "\n",
    "if p value <0.05, we could reject the Null hypothesis and accept the Alternative hypothesis.\n",
    "\n",
    "if p value >0.05, we could accept the null hypothesis and reject the Alternative hypothesis."
   ]
  },
  {
   "cell_type": "code",
   "execution_count": 43,
   "id": "42b085c6",
   "metadata": {},
   "outputs": [
    {
     "name": "stdout",
     "output_type": "stream",
     "text": [
      "3.168333502287889e-11\n",
      "Reject null hypothesis i.e, There is an increase in sales after stepping into digital marketing.\n"
     ]
    }
   ],
   "source": [
    "#calculating p-value using t-test 2-sample paired t-test\n",
    "ttest,pvalue=stat.ttest_rel(data['Sales_before_digital_add(in $)'],data['Sales_After_digital_add(in $)'],alternative=\"less\")\n",
    "print(pvalue)\n",
    "\n",
    "# comparing p-value with significance level 0.05\n",
    "if pvalue<0.05:\n",
    "    print(\"Reject null hypothesis i.e, There is an increase in sales after stepping into digital marketing.\")\n",
    "else:\n",
    "    print(\"Accept null hypothesis i.e, There is no increase in sales after stepping into digital marketing.\")"
   ]
  },
  {
   "cell_type": "markdown",
   "id": "114b6c68",
   "metadata": {},
   "source": [
    "Since the p-value is less than 0.05, We could reject the null hypothesis. So Ultimately there is an increase in sales after stepping into digital marketing."
   ]
  },
  {
   "cell_type": "markdown",
   "id": "57ea1519",
   "metadata": {},
   "source": [
    "# 2.The company needs to check whether there is any dependency between the features “Region” and “Manager”"
   ]
  },
  {
   "cell_type": "markdown",
   "id": "cad60f4f",
   "metadata": {},
   "source": [
    "Let,\n",
    "\n",
    "Null hypothesis ($H_{0}$) :- Region and Manager are independent.\n",
    "\n",
    "Alternative hypothesis ($H_{a}$) :- Region and Manager are dependent.\n",
    "\n",
    "Checking chi-squared independency test between region and manager"
   ]
  },
  {
   "cell_type": "code",
   "execution_count": 44,
   "id": "12d72876",
   "metadata": {},
   "outputs": [
    {
     "data": {
      "text/plain": [
       "array(['Manager - A', 'Manager - C', 'Manager - B'], dtype=object)"
      ]
     },
     "execution_count": 44,
     "metadata": {},
     "output_type": "execute_result"
    }
   ],
   "source": [
    "data['Manager'].unique()"
   ]
  },
  {
   "cell_type": "code",
   "execution_count": 45,
   "id": "581be9a0",
   "metadata": {},
   "outputs": [
    {
     "data": {
      "text/plain": [
       "array(['Region - A', 'Region - B', 'Region - C'], dtype=object)"
      ]
     },
     "execution_count": 45,
     "metadata": {},
     "output_type": "execute_result"
    }
   ],
   "source": [
    "data['Region'].unique()"
   ]
  },
  {
   "cell_type": "code",
   "execution_count": 49,
   "id": "0a156939",
   "metadata": {},
   "outputs": [],
   "source": [
    "#Defining a dictionary\n",
    "Manager_numb={'Manager - A':1, 'Manager - B':2, 'Manager - C':3}\n",
    "region_numb={'Region - A':1, 'Region - B':2, 'Region - C':3}"
   ]
  },
  {
   "cell_type": "code",
   "execution_count": 51,
   "id": "2931374c",
   "metadata": {},
   "outputs": [
    {
     "data": {
      "text/plain": [
       "[1, 3, 1, 2, 2, 2, 3, 1, 3, 2, 3, 1, 1, 1, 1, 2, 3, 2, 1, 2, 1, 3]"
      ]
     },
     "execution_count": 51,
     "metadata": {},
     "output_type": "execute_result"
    }
   ],
   "source": [
    "mang_numb=[Manager_numb[values] for values in data.Manager]\n",
    "mang_numb"
   ]
  },
  {
   "cell_type": "code",
   "execution_count": 52,
   "id": "5bfea38c",
   "metadata": {},
   "outputs": [
    {
     "data": {
      "text/plain": [
       "[1, 1, 2, 2, 3, 1, 3, 1, 2, 3, 2, 1, 2, 1, 3, 1, 1, 3, 2, 1, 2, 1]"
      ]
     },
     "execution_count": 52,
     "metadata": {},
     "output_type": "execute_result"
    }
   ],
   "source": [
    "reg_numb=[region_numb[value] for value in data.Region]\n",
    "reg_numb"
   ]
  },
  {
   "cell_type": "code",
   "execution_count": 53,
   "id": "f5defa17",
   "metadata": {},
   "outputs": [
    {
     "data": {
      "text/html": [
       "<div>\n",
       "<style scoped>\n",
       "    .dataframe tbody tr th:only-of-type {\n",
       "        vertical-align: middle;\n",
       "    }\n",
       "\n",
       "    .dataframe tbody tr th {\n",
       "        vertical-align: top;\n",
       "    }\n",
       "\n",
       "    .dataframe thead th {\n",
       "        text-align: right;\n",
       "    }\n",
       "</style>\n",
       "<table border=\"1\" class=\"dataframe\">\n",
       "  <thead>\n",
       "    <tr style=\"text-align: right;\">\n",
       "      <th></th>\n",
       "      <th>mang_numb</th>\n",
       "      <th>reg_numb</th>\n",
       "    </tr>\n",
       "  </thead>\n",
       "  <tbody>\n",
       "    <tr>\n",
       "      <th>0</th>\n",
       "      <td>1</td>\n",
       "      <td>1</td>\n",
       "    </tr>\n",
       "    <tr>\n",
       "      <th>1</th>\n",
       "      <td>3</td>\n",
       "      <td>1</td>\n",
       "    </tr>\n",
       "    <tr>\n",
       "      <th>2</th>\n",
       "      <td>1</td>\n",
       "      <td>2</td>\n",
       "    </tr>\n",
       "    <tr>\n",
       "      <th>3</th>\n",
       "      <td>2</td>\n",
       "      <td>2</td>\n",
       "    </tr>\n",
       "    <tr>\n",
       "      <th>4</th>\n",
       "      <td>2</td>\n",
       "      <td>3</td>\n",
       "    </tr>\n",
       "  </tbody>\n",
       "</table>\n",
       "</div>"
      ],
      "text/plain": [
       "   mang_numb  reg_numb\n",
       "0          1         1\n",
       "1          3         1\n",
       "2          1         2\n",
       "3          2         2\n",
       "4          2         3"
      ]
     },
     "execution_count": 53,
     "metadata": {},
     "output_type": "execute_result"
    }
   ],
   "source": [
    "#create a dataframe using the list mang_numb and reg_numb\n",
    "data_1 = pd.DataFrame(list(zip(mang_numb,reg_numb)),columns=['mang_numb','reg_numb'])\n",
    "data_1.head()"
   ]
  },
  {
   "cell_type": "code",
   "execution_count": 56,
   "id": "6551f93e",
   "metadata": {},
   "outputs": [
    {
     "name": "stdout",
     "output_type": "stream",
     "text": [
      "stat=7.288, p=0.998\n",
      "The features “Region” and “Manager\" are independent\n"
     ]
    }
   ],
   "source": [
    "#Calculating p- value using chi-Squared test\n",
    "stat,p,dof,expected=chi2_contingency(data_1)\n",
    "print('stat=%.3f, p=%.3f' % (stat,p))\n",
    "\n",
    "# comparing p value with significant level 0.05\n",
    "if p<0.05: \n",
    "    print('The features “Region” and “Manager\" are dependent')\n",
    "else:\n",
    "    print('The features “Region” and “Manager\" are independent')"
   ]
  },
  {
   "cell_type": "markdown",
   "id": "c0d20839",
   "metadata": {},
   "source": [
    "Since the p-value is greater than 0.05, we have to accept the Null hypothesis ($H_{0}$) .That means the features “Region” and “Manager\" are independent."
   ]
  }
 ],
 "metadata": {
  "kernelspec": {
   "display_name": "Python 3",
   "language": "python",
   "name": "python3"
  },
  "language_info": {
   "codemirror_mode": {
    "name": "ipython",
    "version": 3
   },
   "file_extension": ".py",
   "mimetype": "text/x-python",
   "name": "python",
   "nbconvert_exporter": "python",
   "pygments_lexer": "ipython3",
   "version": "3.8.8"
  }
 },
 "nbformat": 4,
 "nbformat_minor": 5
}
